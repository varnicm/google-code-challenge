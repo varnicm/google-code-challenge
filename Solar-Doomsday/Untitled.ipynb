{
 "cells": [
  {
   "cell_type": "code",
   "execution_count": 1,
   "id": "589068f0",
   "metadata": {},
   "outputs": [],
   "source": [
    "import math \n",
    "square_list=[]\n",
    "def solution(area):\n",
    "    while(area != 0):\n",
    "        a=math.sqrt(area)\n",
    "        if(isinstance == False):\n",
    "            square_list.append((math.floor(a)**2))\n",
    "            area=area-(math.floor(a)**2)\n",
    "        else:\n",
    "            square_list.append((math.floor(a)**2))\n",
    "    return square_list"
   ]
  },
  {
   "cell_type": "code",
   "execution_count": null,
   "id": "837ca22a",
   "metadata": {},
   "outputs": [],
   "source": [
    "solution(45)"
   ]
  },
  {
   "cell_type": "code",
   "execution_count": null,
   "id": "a6ab49f6",
   "metadata": {},
   "outputs": [],
   "source": []
  }
 ],
 "metadata": {
  "kernelspec": {
   "display_name": "Python 3 (ipykernel)",
   "language": "python",
   "name": "python3"
  },
  "language_info": {
   "codemirror_mode": {
    "name": "ipython",
    "version": 3
   },
   "file_extension": ".py",
   "mimetype": "text/x-python",
   "name": "python",
   "nbconvert_exporter": "python",
   "pygments_lexer": "ipython3",
   "version": "3.11.4"
  }
 },
 "nbformat": 4,
 "nbformat_minor": 5
}
